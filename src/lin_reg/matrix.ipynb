{
 "cells": [
  {
   "cell_type": "code",
   "execution_count": 18,
   "metadata": {},
   "outputs": [
    {
     "data": {
      "text/plain": [
       "(0.05361753146253795, 0.05361753146253816)"
      ]
     },
     "execution_count": 18,
     "metadata": {},
     "output_type": "execute_result"
    }
   ],
   "source": [
    "import numpy as np\n",
    "\n",
    "# Create fake data: 5 features and 1 million examples\n",
    "n = 5\n",
    "m = 1000000\n",
    "theta = np.random.rand(n)\n",
    "X = np.random.rand(m, n)\n",
    "Y = np.random.rand(m)\n",
    "\n",
    "# Cost function with a for loop over training examples\n",
    "def costfunc_for():\n",
    "    return 1/(2.0*m)*np.sum([(np.dot(theta, X[i, :]) - Y[i])**2 for i in range(m)])\n",
    "\n",
    "# Matrix implementation\n",
    "def costfunc_mat():\n",
    "    v = np.dot(X, theta) - Y\n",
    "    return 1/(2.0*m)*np.dot(v, v)\n",
    "\n",
    "# Check that the results are the same\n",
    "costfunc_1(), costfunc_2()"
   ]
  },
  {
   "cell_type": "code",
   "execution_count": 15,
   "metadata": {},
   "outputs": [
    {
     "name": "stdout",
     "output_type": "stream",
     "text": [
      "1 loop, best of 3: 2.61 s per loop\n"
     ]
    }
   ],
   "source": [
    "%timeit costfunc_for()"
   ]
  },
  {
   "cell_type": "code",
   "execution_count": 19,
   "metadata": {},
   "outputs": [
    {
     "name": "stdout",
     "output_type": "stream",
     "text": [
      "100 loops, best of 3: 9.33 ms per loop\n"
     ]
    }
   ],
   "source": [
    "%timeit costfunc_mat()"
   ]
  }
 ],
 "metadata": {
  "kernelspec": {
   "display_name": "Python 2",
   "language": "python",
   "name": "python2"
  },
  "language_info": {
   "codemirror_mode": {
    "name": "ipython",
    "version": 2
   },
   "file_extension": ".py",
   "mimetype": "text/x-python",
   "name": "python",
   "nbconvert_exporter": "python",
   "pygments_lexer": "ipython2",
   "version": "2.7.10"
  }
 },
 "nbformat": 4,
 "nbformat_minor": 2
}
